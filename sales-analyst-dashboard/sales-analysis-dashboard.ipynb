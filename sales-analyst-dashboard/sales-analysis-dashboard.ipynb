{
 "cells": [
  {
   "metadata": {},
   "cell_type": "markdown",
   "source": [
    "# AAL Sales Analysis Dashboard\n",
    "\n",
    "#### A Dashboard generating various reports and projections to help AAL Sales and Marketing (S&M) Department to arrive informed business decision.\n",
    "\n",
    "##### Author: Angshuman Nandi"
   ],
   "id": "237e35ddec459f4a"
  },
  {
   "metadata": {
    "ExecuteTime": {
     "end_time": "2024-12-14T17:54:25.792943Z",
     "start_time": "2024-12-14T17:54:25.790011Z"
    }
   },
   "cell_type": "code",
   "source": [
    "# Importing required libraries\n",
    "import pandas as pd\n",
    "import seaborn as sns"
   ],
   "id": "49fe55f77d8e60a4",
   "outputs": [],
   "execution_count": 131
  },
  {
   "metadata": {},
   "cell_type": "markdown",
   "source": "### 1. Data Wrangling",
   "id": "b930b4cabc97885b"
  },
  {
   "metadata": {},
   "cell_type": "markdown",
   "source": "#### Requirements 1.a & 1.b",
   "id": "df8c1606f0d680d2"
  },
  {
   "metadata": {
    "ExecuteTime": {
     "end_time": "2024-12-14T17:54:25.817534Z",
     "start_time": "2024-12-14T17:54:25.806813Z"
    }
   },
   "cell_type": "code",
   "source": [
    "# a. Ensure that the data is clean and free from any missing or incorrect entries\n",
    "df = pd.read_csv('AusApparalSales4thQrt2020.csv')\n",
    "# Initial check for data set we received from supplied sample data\n",
    "print(df.info())"
   ],
   "id": "c0c30e49ca739da",
   "outputs": [
    {
     "name": "stdout",
     "output_type": "stream",
     "text": [
      "<class 'pandas.core.frame.DataFrame'>\n",
      "RangeIndex: 7560 entries, 0 to 7559\n",
      "Data columns (total 6 columns):\n",
      " #   Column  Non-Null Count  Dtype \n",
      "---  ------  --------------  ----- \n",
      " 0   Date    7560 non-null   object\n",
      " 1   Time    7560 non-null   object\n",
      " 2   State   7560 non-null   object\n",
      " 3   Group   7560 non-null   object\n",
      " 4   Unit    7560 non-null   int64 \n",
      " 5   Sales   7560 non-null   int64 \n",
      "dtypes: int64(2), object(4)\n",
      "memory usage: 354.5+ KB\n",
      "None\n"
     ]
    }
   ],
   "execution_count": 132
  },
  {
   "metadata": {
    "ExecuteTime": {
     "end_time": "2024-12-14T17:54:25.824410Z",
     "start_time": "2024-12-14T17:54:25.820920Z"
    }
   },
   "cell_type": "code",
   "source": [
    "# Check for missing values\n",
    "print(\"Missing values in dataset:\")\n",
    "print(df.isna().sum())"
   ],
   "id": "78dbbd5db1624cc4",
   "outputs": [
    {
     "name": "stdout",
     "output_type": "stream",
     "text": [
      "Missing values in dataset:\n",
      "Date     0\n",
      "Time     0\n",
      "State    0\n",
      "Group    0\n",
      "Unit     0\n",
      "Sales    0\n",
      "dtype: int64\n"
     ]
    }
   ],
   "execution_count": 133
  },
  {
   "metadata": {
    "ExecuteTime": {
     "end_time": "2024-12-14T17:54:25.839575Z",
     "start_time": "2024-12-14T17:54:25.837301Z"
    }
   },
   "cell_type": "code",
   "source": [
    "# Getting a look at different columns we have with data frame\n",
    "print(df.columns)"
   ],
   "id": "5b11151268bd5178",
   "outputs": [
    {
     "name": "stdout",
     "output_type": "stream",
     "text": [
      "Index(['Date', 'Time', 'State', 'Group', 'Unit', 'Sales'], dtype='object')\n"
     ]
    }
   ],
   "execution_count": 134
  },
  {
   "metadata": {
    "ExecuteTime": {
     "end_time": "2024-12-14T17:54:25.844657Z",
     "start_time": "2024-12-14T17:54:25.842207Z"
    }
   },
   "cell_type": "code",
   "source": [
    "# Check for incorrect entries\n",
    "entire_date_range = df['Date'].unique()\n",
    "print(entire_date_range)"
   ],
   "id": "4ac7eb744557673e",
   "outputs": [
    {
     "name": "stdout",
     "output_type": "stream",
     "text": [
      "['1-Oct-2020' '2-Oct-2020' '3-Oct-2020' '4-Oct-2020' '5-Oct-2020'\n",
      " '6-Oct-2020' '7-Oct-2020' '8-Oct-2020' '9-Oct-2020' '10-Oct-2020'\n",
      " '11-Oct-2020' '12-Oct-2020' '13-Oct-2020' '14-Oct-2020' '15-Oct-2020'\n",
      " '16-Oct-2020' '17-Oct-2020' '18-Oct-2020' '19-Oct-2020' '20-Oct-2020'\n",
      " '21-Oct-2020' '22-Oct-2020' '23-Oct-2020' '24-Oct-2020' '25-Oct-2020'\n",
      " '26-Oct-2020' '27-Oct-2020' '28-Oct-2020' '29-Oct-2020' '30-Oct-2020'\n",
      " '1-Nov-2020' '2-Nov-2020' '3-Nov-2020' '4-Nov-2020' '5-Nov-2020'\n",
      " '6-Nov-2020' '7-Nov-2020' '8-Nov-2020' '9-Nov-2020' '10-Nov-2020'\n",
      " '11-Nov-2020' '12-Nov-2020' '13-Nov-2020' '14-Nov-2020' '15-Nov-2020'\n",
      " '16-Nov-2020' '17-Nov-2020' '18-Nov-2020' '19-Nov-2020' '20-Nov-2020'\n",
      " '21-Nov-2020' '22-Nov-2020' '23-Nov-2020' '24-Nov-2020' '25-Nov-2020'\n",
      " '26-Nov-2020' '27-Nov-2020' '28-Nov-2020' '29-Nov-2020' '30-Nov-2020'\n",
      " '1-Dec-2020' '2-Dec-2020' '3-Dec-2020' '4-Dec-2020' '5-Dec-2020'\n",
      " '6-Dec-2020' '7-Dec-2020' '8-Dec-2020' '9-Dec-2020' '10-Dec-2020'\n",
      " '11-Dec-2020' '12-Dec-2020' '13-Dec-2020' '14-Dec-2020' '15-Dec-2020'\n",
      " '16-Dec-2020' '17-Dec-2020' '18-Dec-2020' '19-Dec-2020' '20-Dec-2020'\n",
      " '21-Dec-2020' '22-Dec-2020' '23-Dec-2020' '24-Dec-2020' '25-Dec-2020'\n",
      " '26-Dec-2020' '27-Dec-2020' '28-Dec-2020' '29-Dec-2020' '30-Dec-2020']\n"
     ]
    }
   ],
   "execution_count": 135
  },
  {
   "metadata": {
    "ExecuteTime": {
     "end_time": "2024-12-14T17:54:25.860420Z",
     "start_time": "2024-12-14T17:54:25.855021Z"
    }
   },
   "cell_type": "code",
   "source": [
    "# Let's get a stock of dates with inaccurate data\n",
    "all_unique_exiting_valid_dates = set([i. strftime('%d-%b-%Y') for i in pd.to_datetime(df['Date']).unique()])\n",
    "complete_desired_dates = set([i.strftime('%d-%b-%Y') for i in pd.date_range(start = '1-oct-2020' , end = '31-dec-2020')])\n",
    "print(complete_desired_dates - all_unique_exiting_valid_dates)"
   ],
   "id": "28def89ad6def48e",
   "outputs": [
    {
     "name": "stdout",
     "output_type": "stream",
     "text": [
      "{'31-Oct-2020', '31-Dec-2020'}\n"
     ]
    }
   ],
   "execution_count": 136
  },
  {
   "metadata": {},
   "cell_type": "markdown",
   "source": "#### Requirement 1.c : to be ignored as advised by class teacher (Rahul).",
   "id": "a3dcbd505cc9d06e"
  },
  {
   "metadata": {},
   "cell_type": "markdown",
   "source": "#### Requirement 1.d",
   "id": "5ee1eaefad59a2e7"
  },
  {
   "metadata": {},
   "cell_type": "markdown",
   "source": "I recommend using GroupBy() for initial data segmentation when dealing with large datasets that require segment-specific processing. Its memory-efficient implementation makes it ideal for handling large-scale data analysis tasks. However, for simple merging operations without the need for aggregation, using pandas merge() or concat() functions might be more straightforward.",
   "id": "2e9b6cbc4cd99364"
  },
  {
   "metadata": {},
   "cell_type": "markdown",
   "source": "### 2. Data analysis",
   "id": "e055ab7dcfcdaf8"
  },
  {
   "metadata": {},
   "cell_type": "markdown",
   "source": "#### Requirements 2.a, 2.b, 2.c & 2.d",
   "id": "9babc296d3ce56c0"
  },
  {
   "metadata": {
    "ExecuteTime": {
     "end_time": "2024-12-14T17:54:25.873832Z",
     "start_time": "2024-12-14T17:54:25.867646Z"
    }
   },
   "cell_type": "code",
   "source": [
    "# Perform descriptive statistical analysis\n",
    "df.describe()"
   ],
   "id": "640a18e66aea5cda",
   "outputs": [
    {
     "data": {
      "text/plain": [
       "              Unit          Sales\n",
       "count  7560.000000    7560.000000\n",
       "mean     18.005423   45013.558201\n",
       "std      12.901403   32253.506944\n",
       "min       2.000000    5000.000000\n",
       "25%       8.000000   20000.000000\n",
       "50%      14.000000   35000.000000\n",
       "75%      26.000000   65000.000000\n",
       "max      65.000000  162500.000000"
      ],
      "text/html": [
       "<div>\n",
       "<style scoped>\n",
       "    .dataframe tbody tr th:only-of-type {\n",
       "        vertical-align: middle;\n",
       "    }\n",
       "\n",
       "    .dataframe tbody tr th {\n",
       "        vertical-align: top;\n",
       "    }\n",
       "\n",
       "    .dataframe thead th {\n",
       "        text-align: right;\n",
       "    }\n",
       "</style>\n",
       "<table border=\"1\" class=\"dataframe\">\n",
       "  <thead>\n",
       "    <tr style=\"text-align: right;\">\n",
       "      <th></th>\n",
       "      <th>Unit</th>\n",
       "      <th>Sales</th>\n",
       "    </tr>\n",
       "  </thead>\n",
       "  <tbody>\n",
       "    <tr>\n",
       "      <th>count</th>\n",
       "      <td>7560.000000</td>\n",
       "      <td>7560.000000</td>\n",
       "    </tr>\n",
       "    <tr>\n",
       "      <th>mean</th>\n",
       "      <td>18.005423</td>\n",
       "      <td>45013.558201</td>\n",
       "    </tr>\n",
       "    <tr>\n",
       "      <th>std</th>\n",
       "      <td>12.901403</td>\n",
       "      <td>32253.506944</td>\n",
       "    </tr>\n",
       "    <tr>\n",
       "      <th>min</th>\n",
       "      <td>2.000000</td>\n",
       "      <td>5000.000000</td>\n",
       "    </tr>\n",
       "    <tr>\n",
       "      <th>25%</th>\n",
       "      <td>8.000000</td>\n",
       "      <td>20000.000000</td>\n",
       "    </tr>\n",
       "    <tr>\n",
       "      <th>50%</th>\n",
       "      <td>14.000000</td>\n",
       "      <td>35000.000000</td>\n",
       "    </tr>\n",
       "    <tr>\n",
       "      <th>75%</th>\n",
       "      <td>26.000000</td>\n",
       "      <td>65000.000000</td>\n",
       "    </tr>\n",
       "    <tr>\n",
       "      <th>max</th>\n",
       "      <td>65.000000</td>\n",
       "      <td>162500.000000</td>\n",
       "    </tr>\n",
       "  </tbody>\n",
       "</table>\n",
       "</div>"
      ]
     },
     "execution_count": 137,
     "metadata": {},
     "output_type": "execute_result"
    }
   ],
   "execution_count": 137
  },
  {
   "metadata": {
    "ExecuteTime": {
     "end_time": "2024-12-14T17:54:25.899903Z",
     "start_time": "2024-12-14T17:54:25.895971Z"
    }
   },
   "cell_type": "code",
   "source": "df['Sales'].describe()",
   "id": "bf9ef42937b00056",
   "outputs": [
    {
     "data": {
      "text/plain": [
       "count      7560.000000\n",
       "mean      45013.558201\n",
       "std       32253.506944\n",
       "min        5000.000000\n",
       "25%       20000.000000\n",
       "50%       35000.000000\n",
       "75%       65000.000000\n",
       "max      162500.000000\n",
       "Name: Sales, dtype: float64"
      ]
     },
     "execution_count": 138,
     "metadata": {},
     "output_type": "execute_result"
    }
   ],
   "execution_count": 138
  },
  {
   "metadata": {
    "ExecuteTime": {
     "end_time": "2024-12-14T17:54:25.950445Z",
     "start_time": "2024-12-14T17:54:25.946006Z"
    }
   },
   "cell_type": "code",
   "source": "df['Unit'].describe()",
   "id": "6ca3ec588931cd11",
   "outputs": [
    {
     "data": {
      "text/plain": [
       "count    7560.000000\n",
       "mean       18.005423\n",
       "std        12.901403\n",
       "min         2.000000\n",
       "25%         8.000000\n",
       "50%        14.000000\n",
       "75%        26.000000\n",
       "max        65.000000\n",
       "Name: Unit, dtype: float64"
      ]
     },
     "execution_count": 139,
     "metadata": {},
     "output_type": "execute_result"
    }
   ],
   "execution_count": 139
  },
  {
   "metadata": {
    "ExecuteTime": {
     "end_time": "2024-12-14T17:54:26.004889Z",
     "start_time": "2024-12-14T17:54:26.001631Z"
    }
   },
   "cell_type": "code",
   "source": "df['Sales'].mode()",
   "id": "c1ad8ff6822bde04",
   "outputs": [
    {
     "data": {
      "text/plain": [
       "0    22500\n",
       "Name: Sales, dtype: int64"
      ]
     },
     "execution_count": 140,
     "metadata": {},
     "output_type": "execute_result"
    }
   ],
   "execution_count": 140
  },
  {
   "metadata": {
    "ExecuteTime": {
     "end_time": "2024-12-14T17:54:26.059181Z",
     "start_time": "2024-12-14T17:54:26.055978Z"
    }
   },
   "cell_type": "code",
   "source": "df['Unit'].mode()",
   "id": "a1fe45d02f6d8e14",
   "outputs": [
    {
     "data": {
      "text/plain": [
       "0    9\n",
       "Name: Unit, dtype: int64"
      ]
     },
     "execution_count": 141,
     "metadata": {},
     "output_type": "execute_result"
    }
   ],
   "execution_count": 141
  },
  {
   "metadata": {
    "ExecuteTime": {
     "end_time": "2024-12-14T17:54:26.111671Z",
     "start_time": "2024-12-14T17:54:26.106877Z"
    }
   },
   "cell_type": "code",
   "source": [
    "# Identify the group with the highest sales and the group with the lowest sales based on the data provided.\n",
    "df.groupby('Group').agg({'Sales':'sum'}).sort_values('Sales', ascending=False)"
   ],
   "id": "180d7dbc66e83f8c",
   "outputs": [
    {
     "data": {
      "text/plain": [
       "            Sales\n",
       "Group            \n",
       "Men      85750000\n",
       "Women    85442500\n",
       "Kids     85072500\n",
       "Seniors  84037500"
      ],
      "text/html": [
       "<div>\n",
       "<style scoped>\n",
       "    .dataframe tbody tr th:only-of-type {\n",
       "        vertical-align: middle;\n",
       "    }\n",
       "\n",
       "    .dataframe tbody tr th {\n",
       "        vertical-align: top;\n",
       "    }\n",
       "\n",
       "    .dataframe thead th {\n",
       "        text-align: right;\n",
       "    }\n",
       "</style>\n",
       "<table border=\"1\" class=\"dataframe\">\n",
       "  <thead>\n",
       "    <tr style=\"text-align: right;\">\n",
       "      <th></th>\n",
       "      <th>Sales</th>\n",
       "    </tr>\n",
       "    <tr>\n",
       "      <th>Group</th>\n",
       "      <th></th>\n",
       "    </tr>\n",
       "  </thead>\n",
       "  <tbody>\n",
       "    <tr>\n",
       "      <th>Men</th>\n",
       "      <td>85750000</td>\n",
       "    </tr>\n",
       "    <tr>\n",
       "      <th>Women</th>\n",
       "      <td>85442500</td>\n",
       "    </tr>\n",
       "    <tr>\n",
       "      <th>Kids</th>\n",
       "      <td>85072500</td>\n",
       "    </tr>\n",
       "    <tr>\n",
       "      <th>Seniors</th>\n",
       "      <td>84037500</td>\n",
       "    </tr>\n",
       "  </tbody>\n",
       "</table>\n",
       "</div>"
      ]
     },
     "execution_count": 142,
     "metadata": {},
     "output_type": "execute_result"
    }
   ],
   "execution_count": 142
  },
  {
   "metadata": {
    "ExecuteTime": {
     "end_time": "2024-12-14T17:54:26.225062Z",
     "start_time": "2024-12-14T17:54:26.221158Z"
    }
   },
   "cell_type": "code",
   "source": [
    "# Another way to achieve the highest and lowest sales\n",
    "highest_sales = df.groupby('State')['Sales'].sum().idxmax()\n",
    "lowest_sales = df.groupby('State')['Sales'].sum().idxmin()\n",
    "print(f\"State with highest sales: {highest_sales}\")\n",
    "print(f\"State with lowest sales: {lowest_sales}\")"
   ],
   "id": "62f58b9b7d086486",
   "outputs": [
    {
     "name": "stdout",
     "output_type": "stream",
     "text": [
      "State with highest sales:  VIC\n",
      "State with lowest sales:  WA\n"
     ]
    }
   ],
   "execution_count": 143
  },
  {
   "metadata": {
    "ExecuteTime": {
     "end_time": "2024-12-14T17:54:26.260872Z",
     "start_time": "2024-12-14T17:54:26.256303Z"
    }
   },
   "cell_type": "code",
   "source": [
    "# weekly, monthly, and quarterly reports\n",
    "df['Date'] = pd.to_datetime(df['Date'])\n",
    "df['Date']"
   ],
   "id": "f2252db59fff6123",
   "outputs": [
    {
     "data": {
      "text/plain": [
       "0      2020-10-01\n",
       "1      2020-10-01\n",
       "2      2020-10-01\n",
       "3      2020-10-01\n",
       "4      2020-10-01\n",
       "          ...    \n",
       "7555   2020-12-30\n",
       "7556   2020-12-30\n",
       "7557   2020-12-30\n",
       "7558   2020-12-30\n",
       "7559   2020-12-30\n",
       "Name: Date, Length: 7560, dtype: datetime64[ns]"
      ]
     },
     "execution_count": 144,
     "metadata": {},
     "output_type": "execute_result"
    }
   ],
   "execution_count": 144
  },
  {
   "metadata": {
    "ExecuteTime": {
     "end_time": "2024-12-14T17:54:26.290543Z",
     "start_time": "2024-12-14T17:54:26.285739Z"
    }
   },
   "cell_type": "code",
   "source": [
    "df['Week'] = df['Date'].dt.isocalendar().week\n",
    "df['Week']"
   ],
   "id": "bf4b016e41ce8a3b",
   "outputs": [
    {
     "data": {
      "text/plain": [
       "0       40\n",
       "1       40\n",
       "2       40\n",
       "3       40\n",
       "4       40\n",
       "        ..\n",
       "7555    53\n",
       "7556    53\n",
       "7557    53\n",
       "7558    53\n",
       "7559    53\n",
       "Name: Week, Length: 7560, dtype: UInt32"
      ]
     },
     "execution_count": 145,
     "metadata": {},
     "output_type": "execute_result"
    }
   ],
   "execution_count": 145
  },
  {
   "metadata": {
    "ExecuteTime": {
     "end_time": "2024-12-14T17:54:26.343217Z",
     "start_time": "2024-12-14T17:54:26.338196Z"
    }
   },
   "cell_type": "code",
   "source": [
    "df['Month'] = df['Date'].dt.month_name()\n",
    "df['Month']"
   ],
   "id": "3082588b134cee39",
   "outputs": [
    {
     "data": {
      "text/plain": [
       "0        October\n",
       "1        October\n",
       "2        October\n",
       "3        October\n",
       "4        October\n",
       "          ...   \n",
       "7555    December\n",
       "7556    December\n",
       "7557    December\n",
       "7558    December\n",
       "7559    December\n",
       "Name: Month, Length: 7560, dtype: object"
      ]
     },
     "execution_count": 146,
     "metadata": {},
     "output_type": "execute_result"
    }
   ],
   "execution_count": 146
  },
  {
   "metadata": {
    "ExecuteTime": {
     "end_time": "2024-12-14T17:54:26.402347Z",
     "start_time": "2024-12-14T17:54:26.398399Z"
    }
   },
   "cell_type": "code",
   "source": [
    "df['Year'] = df['Date'].dt.year\n",
    "df['Year']"
   ],
   "id": "78130ead38366400",
   "outputs": [
    {
     "data": {
      "text/plain": [
       "0       2020\n",
       "1       2020\n",
       "2       2020\n",
       "3       2020\n",
       "4       2020\n",
       "        ... \n",
       "7555    2020\n",
       "7556    2020\n",
       "7557    2020\n",
       "7558    2020\n",
       "7559    2020\n",
       "Name: Year, Length: 7560, dtype: int32"
      ]
     },
     "execution_count": 147,
     "metadata": {},
     "output_type": "execute_result"
    }
   ],
   "execution_count": 147
  },
  {
   "metadata": {},
   "cell_type": "markdown",
   "source": "### 3. Data visualization",
   "id": "5e6d8e490c3bb079"
  },
  {
   "metadata": {},
   "cell_type": "markdown",
   "source": "#### Requirements 3a & 3b",
   "id": "cd988537f5bb7f73"
  },
  {
   "metadata": {
    "ExecuteTime": {
     "end_time": "2024-12-14T17:54:26.577850Z",
     "start_time": "2024-12-14T17:54:26.452945Z"
    }
   },
   "cell_type": "code",
   "source": [
    "# State-wise sales analysis\n",
    "df.pivot_table(\n",
    "    index='State',\n",
    "    columns='Group',\n",
    "    values='Sales',\n",
    "    aggfunc='sum',\n",
    ").plot(kind='bar')"
   ],
   "id": "77954207fdc7bb85",
   "outputs": [
    {
     "data": {
      "text/plain": [
       "<Axes: xlabel='State'>"
      ]
     },
     "execution_count": 148,
     "metadata": {},
     "output_type": "execute_result"
    },
    {
     "data": {
      "text/plain": [
       "<Figure size 640x480 with 1 Axes>"
      ],
      "image/png": "[encoded data removed]"
     },
     "metadata": {},
     "output_type": "display_data"
    }
   ],
   "execution_count": 148
  },
  {
   "metadata": {
    "ExecuteTime": {
     "end_time": "2024-12-14T17:54:26.721789Z",
     "start_time": "2024-12-14T17:54:26.600075Z"
    }
   },
   "cell_type": "code",
   "source": [
    "# Group-wise sales analysis\n",
    "df.pivot_table(\n",
    "    index='Group',\n",
    "    columns='State',\n",
    "    values='Sales',\n",
    "    aggfunc='sum',\n",
    ").plot(kind='bar')"
   ],
   "id": "fd576ffdfcff61db",
   "outputs": [
    {
     "data": {
      "text/plain": [
       "<Axes: xlabel='Group'>"
      ]
     },
     "execution_count": 149,
     "metadata": {},
     "output_type": "execute_result"
    },
    {
     "data": {
      "text/plain": [
       "<Figure size 640x480 with 1 Axes>"
      ],
      "image/png": "[encoded data removed]"
     },
     "metadata": {},
     "output_type": "display_data"
    }
   ],
   "execution_count": 149
  },
  {
   "metadata": {
    "ExecuteTime": {
     "end_time": "2024-12-14T17:54:26.734268Z",
     "start_time": "2024-12-14T17:54:26.729008Z"
    }
   },
   "cell_type": "code",
   "source": [
    "# Time-of-the-day analysis\n",
    "df.groupby('Time').agg({'Sales': 'sum'})"
   ],
   "id": "b77c0b0bb181924b",
   "outputs": [
    {
     "data": {
      "text/plain": [
       "               Sales\n",
       "Time                \n",
       "Afternoon  114007500\n",
       "Evening    112087500\n",
       "Morning    114207500"
      ],
      "text/html": [
       "<div>\n",
       "<style scoped>\n",
       "    .dataframe tbody tr th:only-of-type {\n",
       "        vertical-align: middle;\n",
       "    }\n",
       "\n",
       "    .dataframe tbody tr th {\n",
       "        vertical-align: top;\n",
       "    }\n",
       "\n",
       "    .dataframe thead th {\n",
       "        text-align: right;\n",
       "    }\n",
       "</style>\n",
       "<table border=\"1\" class=\"dataframe\">\n",
       "  <thead>\n",
       "    <tr style=\"text-align: right;\">\n",
       "      <th></th>\n",
       "      <th>Sales</th>\n",
       "    </tr>\n",
       "    <tr>\n",
       "      <th>Time</th>\n",
       "      <th></th>\n",
       "    </tr>\n",
       "  </thead>\n",
       "  <tbody>\n",
       "    <tr>\n",
       "      <th>Afternoon</th>\n",
       "      <td>114007500</td>\n",
       "    </tr>\n",
       "    <tr>\n",
       "      <th>Evening</th>\n",
       "      <td>112087500</td>\n",
       "    </tr>\n",
       "    <tr>\n",
       "      <th>Morning</th>\n",
       "      <td>114207500</td>\n",
       "    </tr>\n",
       "  </tbody>\n",
       "</table>\n",
       "</div>"
      ]
     },
     "execution_count": 150,
     "metadata": {},
     "output_type": "execute_result"
    }
   ],
   "execution_count": 150
  },
  {
   "metadata": {
    "ExecuteTime": {
     "end_time": "2024-12-14T17:54:26.742743Z",
     "start_time": "2024-12-14T17:54:26.738058Z"
    }
   },
   "cell_type": "code",
   "source": "df.groupby('Group').agg({'Sales': 'sum'})",
   "id": "fa0a97f1c954720",
   "outputs": [
    {
     "data": {
      "text/plain": [
       "            Sales\n",
       "Group            \n",
       "Kids     85072500\n",
       "Men      85750000\n",
       "Seniors  84037500\n",
       "Women    85442500"
      ],
      "text/html": [
       "<div>\n",
       "<style scoped>\n",
       "    .dataframe tbody tr th:only-of-type {\n",
       "        vertical-align: middle;\n",
       "    }\n",
       "\n",
       "    .dataframe tbody tr th {\n",
       "        vertical-align: top;\n",
       "    }\n",
       "\n",
       "    .dataframe thead th {\n",
       "        text-align: right;\n",
       "    }\n",
       "</style>\n",
       "<table border=\"1\" class=\"dataframe\">\n",
       "  <thead>\n",
       "    <tr style=\"text-align: right;\">\n",
       "      <th></th>\n",
       "      <th>Sales</th>\n",
       "    </tr>\n",
       "    <tr>\n",
       "      <th>Group</th>\n",
       "      <th></th>\n",
       "    </tr>\n",
       "  </thead>\n",
       "  <tbody>\n",
       "    <tr>\n",
       "      <th>Kids</th>\n",
       "      <td>85072500</td>\n",
       "    </tr>\n",
       "    <tr>\n",
       "      <th>Men</th>\n",
       "      <td>85750000</td>\n",
       "    </tr>\n",
       "    <tr>\n",
       "      <th>Seniors</th>\n",
       "      <td>84037500</td>\n",
       "    </tr>\n",
       "    <tr>\n",
       "      <th>Women</th>\n",
       "      <td>85442500</td>\n",
       "    </tr>\n",
       "  </tbody>\n",
       "</table>\n",
       "</div>"
      ]
     },
     "execution_count": 151,
     "metadata": {},
     "output_type": "execute_result"
    }
   ],
   "execution_count": 151
  },
  {
   "metadata": {
    "ExecuteTime": {
     "end_time": "2024-12-14T17:54:26.879340Z",
     "start_time": "2024-12-14T17:54:26.780873Z"
    }
   },
   "cell_type": "code",
   "source": [
    "df.pivot_table(\n",
    "    index='Time',\n",
    "    columns='Group',\n",
    "    values='Sales',\n",
    ").plot(kind='bar')"
   ],
   "id": "545dafb65fd29fc3",
   "outputs": [
    {
     "data": {
      "text/plain": [
       "<Axes: xlabel='Time'>"
      ]
     },
     "execution_count": 152,
     "metadata": {},
     "output_type": "execute_result"
    },
    {
     "data": {
      "text/plain": [
       "<Figure size 640x480 with 1 Axes>"
      ],
      "image/png": "[encoded data removed]"
     },
     "metadata": {},
     "output_type": "display_data"
    }
   ],
   "execution_count": 152
  },
  {
   "metadata": {},
   "cell_type": "markdown",
   "source": "#### 3.c Used Panda library inbuilt plot utility for a faster developer experience, cleaner integrated native capability and simplistic visualization.",
   "id": "4be0090fedba74d5"
  },
  {
   "metadata": {},
   "cell_type": "markdown",
   "source": "### 4. Report generation",
   "id": "ae709d58dc0153b5"
  },
  {
   "metadata": {
    "ExecuteTime": {
     "end_time": "2024-12-14T17:54:26.981856Z",
     "start_time": "2024-12-14T17:54:26.920336Z"
    }
   },
   "cell_type": "code",
   "source": [
    "# Box plot\n",
    "df['Unit'].plot(kind='box')"
   ],
   "id": "50aa3f9ca6c5dc0",
   "outputs": [
    {
     "data": {
      "text/plain": [
       "<Axes: >"
      ]
     },
     "execution_count": 153,
     "metadata": {},
     "output_type": "execute_result"
    },
    {
     "data": {
      "text/plain": [
       "<Figure size 640x480 with 1 Axes>"
      ],
      "image/png": "[encoded data removed]"
     },
     "metadata": {},
     "output_type": "display_data"
    }
   ],
   "execution_count": 153
  },
  {
   "metadata": {
    "ExecuteTime": {
     "end_time": "2024-12-14T17:54:27.156664Z",
     "start_time": "2024-12-14T17:54:26.992999Z"
    }
   },
   "cell_type": "code",
   "source": [
    "# Seaborn distribution plot\n",
    "sns.displot(\n",
    "    df['Sales'],\n",
    "    kde=True,\n",
    "    bins=10,\n",
    ")"
   ],
   "id": "64273df8bb995a8b",
   "outputs": [
    {
     "data": {
      "text/plain": [
       "<seaborn.axisgrid.FacetGrid at 0x130193650>"
      ]
     },
     "execution_count": 154,
     "metadata": {},
     "output_type": "execute_result"
    },
    {
     "data": {
      "text/plain": [
       "<Figure size 500x500 with 1 Axes>"
      ],
      "image/png": "[encoded data removed]"
     },
     "metadata": {},
     "output_type": "display_data"
    }
   ],
   "execution_count": 154
  },
  {
   "metadata": {
    "ExecuteTime": {
     "end_time": "2024-12-14T17:54:27.336966Z",
     "start_time": "2024-12-14T17:54:27.164580Z"
    }
   },
   "cell_type": "code",
   "source": [
    "# Another Seaborn distribution plot with higher bins and without kde\n",
    "sns.set_palette(\"deep\")\n",
    "sns.displot(\n",
    "    df['Sales'],\n",
    "    kde=False,\n",
    "    bins=25,\n",
    ")"
   ],
   "id": "4beae109e5ed2ce9",
   "outputs": [
    {
     "data": {
      "text/plain": [
       "<seaborn.axisgrid.FacetGrid at 0x130226b40>"
      ]
     },
     "execution_count": 155,
     "metadata": {},
     "output_type": "execute_result"
    },
    {
     "data": {
      "text/plain": [
       "<Figure size 500x500 with 1 Axes>"
      ],
      "image/png": "[encoded data removed]"
     },
     "metadata": {},
     "output_type": "display_data"
    }
   ],
   "execution_count": 155
  }
 ],
 "metadata": {
  "kernelspec": {
   "display_name": "Python 3",
   "language": "python",
   "name": "python3"
  },
  "language_info": {
   "codemirror_mode": {
    "name": "ipython",
    "version": 2
   },
   "file_extension": ".py",
   "mimetype": "text/x-python",
   "name": "python",
   "nbconvert_exporter": "python",
   "pygments_lexer": "ipython2",
   "version": "2.7.6"
  }
 },
 "nbformat": 4,
 "nbformat_minor": 5
}
